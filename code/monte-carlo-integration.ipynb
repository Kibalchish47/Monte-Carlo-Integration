{
 "cells": [
  {
   "cell_type": "markdown",
   "metadata": {},
   "source": [
    "## Imports and definitions\n",
    "\n",
    "Consider 2 functions defined on the reals: \n",
    "$$ \n",
    "f(x) = x(1-x)sin^2[200x(1-x)]\n",
    "$$ \n",
    "$$\n",
    "g(x) = \\sqrt{1 - x^2}\n",
    "$$ \n",
    "\n",
    "The first function\n",
    "\n",
    "The second function is a super classic function that will allow us to estimate the value of Pi"
   ]
  },
  {
   "cell_type": "code",
   "execution_count": null,
   "metadata": {},
   "outputs": [],
   "source": []
  }
 ],
 "metadata": {
  "kernelspec": {
   "display_name": "Python 3",
   "language": "python",
   "name": "python3"
  },
  "language_info": {
   "codemirror_mode": {
    "name": "ipython",
    "version": 3
   },
   "file_extension": ".py",
   "mimetype": "text/x-python",
   "name": "python",
   "nbconvert_exporter": "python",
   "pygments_lexer": "ipython3",
   "version": "3.10.7"
  }
 },
 "nbformat": 4,
 "nbformat_minor": 2
}
