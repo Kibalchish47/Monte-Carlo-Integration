{
 "cells": [
  {
   "cell_type": "markdown",
   "metadata": {},
   "source": [
    "## Imports and definitions\n",
    "\n",
    "Consider 2 functions defined on the reals: \n",
    "$$ \n",
    "f(x) = x(1-x)sin^2[200x(1-x)]\n",
    "$$ \n",
    "$$\n",
    "g(x) = \\sqrt{1 - x^2}\n",
    "$$ \n",
    "\n",
    "The first function\n",
    "\n",
    "The second function is a super classic function that will allow us to estimate the value of Pi"
   ]
  },
  {
   "cell_type": "code",
   "execution_count": null,
   "metadata": {},
   "outputs": [],
   "source": [
    "import random\n",
    "import math\n",
    "import matplotlib.pyplot as plt\n",
    "import numpy as np\n",
    "\n",
    "def f(x):\n",
    "    return x * (1 - x) * math.sin(200 * x * (1 - x)) ** 2\n",
    "\n",
    "def g(x): \n",
    "    return math.sqrt(1 - x**2)\n",
    "\n",
    "# Define the interval [a, b] for integration\n",
    "a = 0\n",
    "b = 1\n",
    "\n",
    "# Number of random samples\n",
    "num_samples = 100000s"
   ]
  }
 ],
 "metadata": {
  "kernelspec": {
   "display_name": "Python 3",
   "language": "python",
   "name": "python3"
  },
  "language_info": {
   "codemirror_mode": {
    "name": "ipython",
    "version": 3
   },
   "file_extension": ".py",
   "mimetype": "text/x-python",
   "name": "python",
   "nbconvert_exporter": "python",
   "pygments_lexer": "ipython3",
   "version": "3.10.7"
  }
 },
 "nbformat": 4,
 "nbformat_minor": 2
}
